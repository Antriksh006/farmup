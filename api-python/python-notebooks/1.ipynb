{
 "cells": [
  {
   "cell_type": "code",
   "execution_count": null,
   "id": "47f09d19",
   "metadata": {},
   "outputs": [],
   "source": [
    "import pandas as pd\n",
    "import tensorflow as tf\n",
    "from sklearn.model_selection import train_test_split\n",
    "from sklearn.preprocessing import StandardScaler, LabelEncoder, OneHotEncoder\n",
    "\n",
    "# Load dataset\n",
    "df = pd.read_csv(\"/kaggle/input/datas/Crop_recommendation.csv\")"
   ]
  },
  {
   "cell_type": "code",
   "execution_count": 1,
   "id": "073bbc43",
   "metadata": {},
   "outputs": [
    {
     "ename": "NameError",
     "evalue": "name 'df' is not defined",
     "output_type": "error",
     "traceback": [
      "\u001b[31m---------------------------------------------------------------------------\u001b[39m",
      "\u001b[31mNameError\u001b[39m                                 Traceback (most recent call last)",
      "\u001b[36mCell\u001b[39m\u001b[36m \u001b[39m\u001b[32mIn[1]\u001b[39m\u001b[32m, line 2\u001b[39m\n\u001b[32m      1\u001b[39m \u001b[38;5;66;03m# Separate features and labels\u001b[39;00m\n\u001b[32m----> \u001b[39m\u001b[32m2\u001b[39m X_num = \u001b[43mdf\u001b[49m[[\u001b[33m\"\u001b[39m\u001b[33mtemperature\u001b[39m\u001b[33m\"\u001b[39m, \u001b[33m\"\u001b[39m\u001b[33mhumidity\u001b[39m\u001b[33m\"\u001b[39m, \u001b[33m\"\u001b[39m\u001b[33mph\u001b[39m\u001b[33m\"\u001b[39m, \u001b[33m\"\u001b[39m\u001b[33mwater availability\u001b[39m\u001b[33m\"\u001b[39m]]\n\u001b[32m      4\u001b[39m \u001b[38;5;66;03m# Encode season\u001b[39;00m\n\u001b[32m      5\u001b[39m season_enc = OneHotEncoder(sparse=\u001b[38;5;28;01mFalse\u001b[39;00m)\n",
      "\u001b[31mNameError\u001b[39m: name 'df' is not defined"
     ]
    }
   ],
   "source": [
    "# Separate features and labels\n",
    "X_num = df[[\"temperature\", \"humidity\", \"ph\", \"water availability\"]]\n",
    "\n",
    "# Encode season\n",
    "season_enc = OneHotEncoder(sparse=False)\n",
    "X_season = season_enc.fit_transform(df[[\"season\"]])\n",
    "\n",
    "# Combine numeric + season\n",
    "import numpy as np\n",
    "X = np.hstack([X_num.values, X_season])\n",
    "\n",
    "# Encode labels\n",
    "label_enc = LabelEncoder()\n",
    "y = label_enc.fit_transform(df[\"label\"])\n",
    "\n",
    "# One-hot target\n",
    "y = tf.keras.utils.to_categorical(y)\n",
    "\n",
    "# Normalize numeric features\n",
    "scaler = StandardScaler()\n",
    "X[:, :4] = scaler.fit_transform(X[:, :4])"
   ]
  },
  {
   "cell_type": "code",
   "execution_count": null,
   "id": "8848cf7e",
   "metadata": {},
   "outputs": [],
   "source": [
    "# Train-test split\n",
    "X_train, X_test, y_train, y_test = train_test_split(X, y, test_size=0.2, random_state=42)\n",
    "\n",
    "# Build model\n",
    "model = tf.keras.Sequential([\n",
    "    tf.keras.layers.Dense(64, activation=\"relu\", input_shape=(X.shape[1],)),\n",
    "    tf.keras.layers.Dropout(0.3),\n",
    "    tf.keras.layers.Dense(32, activation=\"relu\"),\n",
    "    tf.keras.layers.Dense(y.shape[1], activation=\"softmax\")\n",
    "])\n",
    "\n",
    "model.compile(optimizer=\"adam\",\n",
    "              loss=\"categorical_crossentropy\",\n",
    "              metrics=[\"accuracy\"])\n",
    "\n",
    "# Train\n",
    "history = model.fit(X_train, y_train, validation_split=0.2, epochs=50, batch_size=16)\n",
    "\n",
    "# Evaluate\n",
    "loss, acc = model.evaluate(X_test, y_test)\n",
    "print(f\"Test Accuracy: {acc:.2f}\")\n",
    "\n",
    "# Example prediction\n",
    "sample = np.array([[28, 80, 6.5, 300]])  # numeric values\n",
    "sample_season = season_enc.transform([[\"rainy\"]])\n",
    "sample_input = np.hstack([sample, sample_season])\n",
    "sample_input[:, :4] = scaler.transform(sample_input[:, :4])\n",
    "\n",
    "pred = model.predict(sample_input)\n",
    "print(\"Predicted Crop:\", label_enc.inverse_transform([np.argmax(pred)]))"
   ]
  }
 ],
 "metadata": {
  "kernelspec": {
   "display_name": "masti",
   "language": "python",
   "name": "python3"
  },
  "language_info": {
   "codemirror_mode": {
    "name": "ipython",
    "version": 3
   },
   "file_extension": ".py",
   "mimetype": "text/x-python",
   "name": "python",
   "nbconvert_exporter": "python",
   "pygments_lexer": "ipython3",
   "version": "3.11.13"
  }
 },
 "nbformat": 4,
 "nbformat_minor": 5
}
